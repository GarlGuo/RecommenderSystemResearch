{
 "cells": [
  {
   "cell_type": "code",
   "execution_count": 10,
   "metadata": {},
   "outputs": [
    {
     "ename": "LoadError",
     "evalue": "ArgumentError: Package SparseMatrices not found in current path:\n- Run `import Pkg; Pkg.add(\"SparseMatrices\")` to install the SparseMatrices package.\n",
     "output_type": "error",
     "traceback": [
      "ArgumentError: Package SparseMatrices not found in current path:\n- Run `import Pkg; Pkg.add(\"SparseMatrices\")` to install the SparseMatrices package.\n",
      "",
      "Stacktrace:",
      " [1] require(::Module, ::Symbol) at .\\loading.jl:893",
      " [2] include_string(::Function, ::Module, ::String, ::String) at .\\loading.jl:1091"
     ]
    }
   ],
   "source": [
    "using LinearAlgebra\n",
    "using Random"
   ]
  },
  {
   "cell_type": "code",
   "execution_count": 7,
   "metadata": {},
   "outputs": [
    {
     "ename": "LoadError",
     "evalue": "UndefVarError: sparse not defined",
     "output_type": "error",
     "traceback": [
      "UndefVarError: sparse not defined",
      "",
      "Stacktrace:",
      " [1] sparseN(::Int64) at .\\In[7]:1",
      " [2] top-level scope at In[7]:2",
      " [3] include_string(::Function, ::Module, ::String, ::String) at .\\loading.jl:1091"
     ]
    }
   ],
   "source": [
    "sparseN(N) = sparse(randperm(N), randperm(N), ones(N), N, N);\n",
    "A = sparseN(1000);"
   ]
  },
  {
   "cell_type": "markdown",
   "metadata": {},
   "source": [
    "#### Standard SVD Method #### "
   ]
  },
  {
   "cell_type": "code",
   "execution_count": null,
   "metadata": {},
   "outputs": [],
   "source": [
    "function make_standard_pred(A, new_a)\n",
    "    u, s, v = svd(A);\n",
    "    \n",
    "    \n",
    "end"
   ]
  }
 ],
 "metadata": {
  "kernelspec": {
   "display_name": "Julia 1.5.3",
   "language": "julia",
   "name": "julia-1.5"
  },
  "language_info": {
   "file_extension": ".jl",
   "mimetype": "application/julia",
   "name": "julia",
   "version": "1.5.3"
  }
 },
 "nbformat": 4,
 "nbformat_minor": 2
}
